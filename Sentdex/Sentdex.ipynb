{
 "cells": [
  {
   "cell_type": "code",
   "execution_count": 8,
   "id": "d079bdc4-902d-406c-aa5e-fb3d150b3b0c",
   "metadata": {},
   "outputs": [],
   "source": [
    "import numpy as np\n",
    "import random"
   ]
  },
  {
   "cell_type": "code",
   "execution_count": 24,
   "id": "796d121a-cffd-48a6-9b2b-2a5248e5ebcf",
   "metadata": {},
   "outputs": [],
   "source": [
    "X = [[0.4, 0.2, -0.3],\n",
    "    [0.1, 0.77, 0.13],\n",
    "    [-0.1, 0.5, -0.87],\n",
    "    [0.67, 0.32, -5.4]]"
   ]
  },
  {
   "cell_type": "code",
   "execution_count": 25,
   "id": "da2bbd2a-d105-4ef4-8198-650536cdb273",
   "metadata": {},
   "outputs": [],
   "source": [
    "class DenseLayer:\n",
    "    def __init__(self, n_inputs, n_neurons):\n",
    "        self.weights = np.random.randn(n_inputs, n_neurons)\n",
    "        self.biases = np.zeros((1,n_neurons))\n",
    "    def ForwardPass(self, inputs):\n",
    "        self.output = np.dot(inputs,self.weights) + self.biases"
   ]
  },
  {
   "cell_type": "code",
   "execution_count": 26,
   "id": "7be810cd-238c-4204-ba0c-f7a287f62a3b",
   "metadata": {},
   "outputs": [],
   "source": [
    "class ActivationReLU:\n",
    "    def forward(self, inputs):\n",
    "        self.output = max(0, inputs)"
   ]
  },
  {
   "cell_type": "code",
   "execution_count": 27,
   "id": "54143057-0178-4b1a-8589-8dc4c0bb8eac",
   "metadata": {},
   "outputs": [
    {
     "name": "stdout",
     "output_type": "stream",
     "text": [
      "[[ -1.25501319   0.38952978]\n",
      " [ -1.24469501   0.53341256]\n",
      " [ -2.47457506   2.44860301]\n",
      " [-11.3095169   10.47297887]]\n"
     ]
    }
   ],
   "source": [
    "layer1 = DenseLayer(3,5)\n",
    "layer2 = DenseLayer(5,2)\n",
    "\n",
    "layer1.ForwardPass(X)\n",
    "layer2.ForwardPass(layer1.output)\n",
    "print(layer2.output)"
   ]
  },
  {
   "cell_type": "code",
   "execution_count": 33,
   "id": "5bf9dce5-afa1-48dd-a87f-646f58b2c8a8",
   "metadata": {},
   "outputs": [
    {
     "name": "stdout",
     "output_type": "stream",
     "text": [
      "2.8.0\n"
     ]
    }
   ],
   "source": [
    "import tensorflow as tf\n",
    "print(tf.__version__)"
   ]
  },
  {
   "cell_type": "code",
   "execution_count": 40,
   "id": "767fbc16-2c96-48fc-9a4a-1b402bd72bdf",
   "metadata": {},
   "outputs": [],
   "source": [
    "mnist = tf.keras.datasets.mnist\n",
    "\n",
    "(x_train, y_train), (x_test, y_test) = mnist.load_data()"
   ]
  },
  {
   "cell_type": "code",
   "execution_count": 41,
   "id": "2269450a-b743-493c-a547-c64672e8c675",
   "metadata": {},
   "outputs": [
    {
     "data": {
      "image/png": "[encoded data removed]",
      "text/plain": [
       "<Figure size 432x288 with 1 Axes>"
      ]
     },
     "metadata": {
      "needs_background": "light"
     },
     "output_type": "display_data"
    }
   ],
   "source": [
    "import matplotlib.pyplot as plt\n",
    "\n",
    "plt.imshow(x_train[1])\n",
    "plt.show()"
   ]
  },
  {
   "cell_type": "code",
   "execution_count": 44,
   "id": "5b597638-1a15-4e33-8fb9-7ebecc365754",
   "metadata": {},
   "outputs": [
    {
     "data": {
      "image/png": "[encoded data removed]",
      "text/plain": [
       "<Figure size 432x288 with 1 Axes>"
      ]
     },
     "metadata": {
      "needs_background": "light"
     },
     "output_type": "display_data"
    }
   ],
   "source": [
    "x_train = tf.keras.utils.normalize(x_train, axis = 1)\n",
    "x_test = tf.keras.utils.normalize(x_test, axis = 1)\n",
    "plt.imshow(x_train[2], cmap = plt.cm.binary)\n",
    "plt.show()"
   ]
  },
  {
   "cell_type": "code",
   "execution_count": 48,
   "id": "75454817-043d-4587-85cf-60d6db7e6436",
   "metadata": {},
   "outputs": [
    {
     "name": "stdout",
     "output_type": "stream",
     "text": [
      "Epoch 1/3\n",
      "1875/1875 [==============================] - 8s 2ms/step - loss: 0.2650 - accuracy: 0.9233\n",
      "Epoch 2/3\n",
      "1875/1875 [==============================] - 4s 2ms/step - loss: 0.1066 - accuracy: 0.9676\n",
      "Epoch 3/3\n",
      "1875/1875 [==============================] - 4s 2ms/step - loss: 0.0723 - accuracy: 0.9779\n"
     ]
    },
    {
     "data": {
      "text/plain": [
       "<keras.callbacks.History at 0x29026a7b550>"
      ]
     },
     "execution_count": 48,
     "metadata": {},
     "output_type": "execute_result"
    }
   ],
   "source": [
    "model = tf.keras.Sequential()\n",
    "model.add(tf.keras.layers.Flatten())\n",
    "model.add(tf.keras.layers.Dense(128, activation = tf.nn.relu))\n",
    "model.add(tf.keras.layers.Dense(128, activation = tf.nn.relu))\n",
    "model.add(tf.keras.layers.Dense(10, activation = tf.nn.softmax))\n",
    "model.compile(optimizer = 'Adam', \n",
    "             loss = 'sparse_categorical_crossentropy',\n",
    "             metrics = ['accuracy'])\n",
    "model.fit(x_train, y_train, epochs=3)"
   ]
  },
  {
   "cell_type": "code",
   "execution_count": 50,
   "id": "9e075d12-6978-4703-a13e-c59f1cc1815b",
   "metadata": {},
   "outputs": [
    {
     "name": "stdout",
     "output_type": "stream",
     "text": [
      "313/313 [==============================] - 1s 2ms/step - loss: 0.0857 - accuracy: 0.9736\n"
     ]
    }
   ],
   "source": [
    "val_loss,val_acc = model.evaluate(x_test,y_test)"
   ]
  },
  {
   "cell_type": "code",
   "execution_count": 51,
   "id": "7d35b224-0e8b-43cc-bc1e-a68897386398",
   "metadata": {},
   "outputs": [
    {
     "name": "stdout",
     "output_type": "stream",
     "text": [
      "WARNING:tensorflow:AutoGraph could not transform <function canonicalize_signatures.<locals>.signature_wrapper at 0x0000029027766700> and will run it as-is.\n",
      "Please report this to the TensorFlow team. When filing the bug, set the verbosity to 10 (on Linux, `export AUTOGRAPH_VERBOSITY=10`) and attach the full output.\n",
      "Cause: closure mismatch, requested ('signature_function', 'signature_key'), but source function had ()\n",
      "To silence this warning, decorate the function with @tf.autograph.experimental.do_not_convert\n",
      "WARNING: AutoGraph could not transform <function canonicalize_signatures.<locals>.signature_wrapper at 0x0000029027766700> and will run it as-is.\n",
      "Please report this to the TensorFlow team. When filing the bug, set the verbosity to 10 (on Linux, `export AUTOGRAPH_VERBOSITY=10`) and attach the full output.\n",
      "Cause: closure mismatch, requested ('signature_function', 'signature_key'), but source function had ()\n",
      "To silence this warning, decorate the function with @tf.autograph.experimental.do_not_convert\n",
      "INFO:tensorflow:Assets written to: mnist_num_reader\\assets\n"
     ]
    }
   ],
   "source": [
    "model.save('mnist_num_reader')"
   ]
  },
  {
   "cell_type": "code",
   "execution_count": 52,
   "id": "102a7741-459f-4466-88cd-8025382f2af1",
   "metadata": {},
   "outputs": [],
   "source": [
    "new_model = tf.keras.models.load_model('mnist_num_reader')"
   ]
  },
  {
   "cell_type": "code",
   "execution_count": 53,
   "id": "a5bdf049-2cb9-4bdf-819e-58e97d441a71",
   "metadata": {},
   "outputs": [
    {
     "name": "stdout",
     "output_type": "stream",
     "text": [
      "WARNING:tensorflow:AutoGraph could not transform <function Model.make_predict_function.<locals>.predict_function at 0x00000290277E1040> and will run it as-is.\n",
      "Please report this to the TensorFlow team. When filing the bug, set the verbosity to 10 (on Linux, `export AUTOGRAPH_VERBOSITY=10`) and attach the full output.\n",
      "Cause: Unknown node type <gast.gast.Expr object at 0x0000029026F2A190>\n",
      "To silence this warning, decorate the function with @tf.autograph.experimental.do_not_convert\n",
      "WARNING: AutoGraph could not transform <function Model.make_predict_function.<locals>.predict_function at 0x00000290277E1040> and will run it as-is.\n",
      "Please report this to the TensorFlow team. When filing the bug, set the verbosity to 10 (on Linux, `export AUTOGRAPH_VERBOSITY=10`) and attach the full output.\n",
      "Cause: Unknown node type <gast.gast.Expr object at 0x0000029026F2A190>\n",
      "To silence this warning, decorate the function with @tf.autograph.experimental.do_not_convert\n"
     ]
    }
   ],
   "source": [
    "predictions = new_model.predict(x_test)"
   ]
  },
  {
   "cell_type": "code",
   "execution_count": 54,
   "id": "550c9b8b-1a42-4ed6-b9e7-994ad2f3a456",
   "metadata": {},
   "outputs": [
    {
     "data": {
      "text/plain": [
       "array([[6.6271866e-08, 1.8785454e-07, 3.7776765e-05, ..., 9.9994147e-01,\n",
       "        5.9170651e-07, 1.4090880e-06],\n",
       "       [1.7370900e-09, 3.4969172e-04, 9.9964941e-01, ..., 1.7446040e-09,\n",
       "        1.2275877e-09, 3.6822845e-12],\n",
       "       [8.3121716e-07, 9.9891162e-01, 2.9328452e-05, ..., 3.9543450e-04,\n",
       "        4.3270263e-04, 2.0345005e-05],\n",
       "       ...,\n",
       "       [4.1949360e-09, 9.7537274e-08, 4.3521723e-08, ..., 7.2736751e-05,\n",
       "        2.5291877e-06, 1.5033824e-04],\n",
       "       [2.1185328e-06, 7.8597895e-06, 8.4392738e-08, ..., 1.9446813e-06,\n",
       "        3.4877561e-05, 7.8360598e-09],\n",
       "       [1.2991178e-07, 2.4086308e-08, 9.4404562e-08, ..., 5.5583675e-09,\n",
       "        4.1334891e-09, 4.3332782e-10]], dtype=float32)"
      ]
     },
     "execution_count": 54,
     "metadata": {},
     "output_type": "execute_result"
    }
   ],
   "source": [
    "predictions"
   ]
  },
  {
   "cell_type": "code",
   "execution_count": 56,
   "id": "9bd7c5c0-785b-4b94-912a-3f9f5d505dcc",
   "metadata": {},
   "outputs": [
    {
     "name": "stdout",
     "output_type": "stream",
     "text": [
      "2\n"
     ]
    }
   ],
   "source": [
    "import numpy as np \n",
    "\n",
    "print(np.argmax(predictions[1]))"
   ]
  },
  {
   "cell_type": "code",
   "execution_count": 58,
   "id": "bbb9d4c6-aa96-4bdc-945b-28113c22f01e",
   "metadata": {},
   "outputs": [
    {
     "data": {
      "text/plain": [
       "2"
      ]
     },
     "execution_count": 58,
     "metadata": {},
     "output_type": "execute_result"
    }
   ],
   "source": [
    "y_test[1]"
   ]
  },
  {
   "cell_type": "code",
   "execution_count": 61,
   "id": "12fb4244-4e03-4384-ba46-e27b13d4059c",
   "metadata": {},
   "outputs": [
    {
     "data": {
      "image/png": "[encoded data removed]",
      "text/plain": [
       "<Figure size 432x288 with 1 Axes>"
      ]
     },
     "metadata": {
      "needs_background": "light"
     },
     "output_type": "display_data"
    }
   ],
   "source": [
    "plt.imshow(x_test[1])\n",
    "plt.show()"
   ]
  },
  {
   "cell_type": "code",
   "execution_count": 70,
   "id": "85101b96-f826-498b-9008-1d32e4a3db8d",
   "metadata": {},
   "outputs": [
    {
     "name": "stdout",
     "output_type": "stream",
     "text": [
      "Collecting opencv-python\n",
      "  Downloading opencv_python-4.5.5.64-cp36-abi3-win_amd64.whl (35.4 MB)\n",
      "Requirement already satisfied: numpy>=1.19.3 in c:\\programdata\\anaconda3\\lib\\site-packages (from opencv-python) (1.20.3)\n",
      "Installing collected packages: opencv-python\n",
      "Successfully installed opencv-python-4.5.5.64\n"
     ]
    }
   ],
   "source": [
    "!pip3 install opencv-python"
   ]
  },
  {
   "cell_type": "code",
   "execution_count": 71,
   "id": "80d6e819-bba0-4577-9172-44281fb2ab6a",
   "metadata": {},
   "outputs": [],
   "source": [
    "import os\n",
    "import pandas as pd\n",
    "import numpy as np\n",
    "import matplotlib.pyplot as plt\n",
    "import cv2"
   ]
  },
  {
   "cell_type": "code",
   "execution_count": 108,
   "id": "814c36c4-e352-47f4-a098-fa3f539f06f8",
   "metadata": {},
   "outputs": [],
   "source": [
    "DIRECTORY = r\"C:\\Users\\hp\\Desktop\\Winter_22\\KMDK\\Python\\kagglecatsanddogs_3367a\\PetImages\"\n",
    "CATEGORIES = [\"Cat\", \"Dog\"]\n",
    "IMG_SIZE = 50"
   ]
  },
  {
   "cell_type": "code",
   "execution_count": 110,
   "id": "3de5b4a4-3235-41f3-add2-eba7a6dcbcc2",
   "metadata": {},
   "outputs": [
    {
     "name": "stdout",
     "output_type": "stream",
     "text": [
      "C:\\Users\\hp\\Desktop\\Winter_22\\KMDK\\Python\\kagglecatsanddogs_3367a\\PetImages\\Cat\n"
     ]
    },
    {
     "data": {
      "image/png": "[encoded data removed]",
      "text/plain": [
       "<Figure size 432x288 with 1 Axes>"
      ]
     },
     "metadata": {
      "needs_background": "light"
     },
     "output_type": "display_data"
    }
   ],
   "source": [
    "for c in CATEGORIES:\n",
    "    path = os.path.join(DIRECTORY, c)\n",
    "    #path = path.replace('\\\\','/')\n",
    "    print(path)\n",
    "    for img in os.listdir(path):\n",
    "        img_array = cv2.imread(os.path.join(path, img), cv2.IMREAD_GRAYSCALE)\n",
    "        plt.imshow(img_array, cmap = 'gray')\n",
    "        plt.show()\n",
    "        break\n",
    "    break"
   ]
  },
  {
   "cell_type": "code",
   "execution_count": 126,
   "id": "a8b34568-407c-4c91-8f38-ac9ac6e4a099",
   "metadata": {},
   "outputs": [],
   "source": [
    "training_data =[]\n",
    "def create_training_data():\n",
    "    for c in CATEGORIES:\n",
    "        path = os.path.join(DIRECTORY, c)\n",
    "        #print(path)\n",
    "        class_num  = CATEGORIES.index(c)\n",
    "        for img in os.listdir(path):\n",
    "            #print(img)\n",
    "            try:\n",
    "                img_array = cv2.imread(os.path.join(path, img), cv2.IMREAD_GRAYSCALE)\n",
    "                new_array = cv2.resize(img_array, (IMG_SIZE,IMG_SIZE))\n",
    "                #print(new_array)\n",
    "                training_data.append([new_array, class_num])\n",
    "                #print(training_data)\n",
    "            except Exception as e:\n",
    "                pass\n",
    "create_training_data()"
   ]
  },
  {
   "cell_type": "code",
   "execution_count": 128,
   "id": "9b074020-3418-4172-aff8-9fccc6f5113d",
   "metadata": {},
   "outputs": [
    {
     "name": "stdout",
     "output_type": "stream",
     "text": [
      "24946\n"
     ]
    }
   ],
   "source": [
    "print(len(training_data))"
   ]
  },
  {
   "cell_type": "code",
   "execution_count": 131,
   "id": "950807a5-4afb-4fcf-90bc-c9f061cfba5a",
   "metadata": {},
   "outputs": [],
   "source": [
    "import random\n",
    "\n",
    "random.shuffle(training_data)"
   ]
  },
  {
   "cell_type": "code",
   "execution_count": 137,
   "id": "5c29e247-b900-4dad-80ed-84f12aefb7f4",
   "metadata": {},
   "outputs": [
    {
     "name": "stdout",
     "output_type": "stream",
     "text": [
      "0\n",
      "1\n",
      "0\n",
      "1\n",
      "1\n"
     ]
    }
   ],
   "source": [
    "for sample in training_data[:5]:\n",
    "    print(sample[1])"
   ]
  },
  {
   "cell_type": "code",
   "execution_count": 164,
   "id": "60e83d05-31c0-4632-ae0e-7c7358b838bb",
   "metadata": {},
   "outputs": [],
   "source": [
    "X= []\n",
    "y=[]"
   ]
  },
  {
   "cell_type": "code",
   "execution_count": 165,
   "id": "529b5b70-fa0c-46fa-bbb7-935716bc9079",
   "metadata": {},
   "outputs": [],
   "source": [
    "for features, labels in training_data:\n",
    "    #print(features, labels)\n",
    "    X.append(features)\n",
    "    y.append(labels)"
   ]
  },
  {
   "cell_type": "code",
   "execution_count": 166,
   "id": "3a3bdfcb-8240-47d7-94b3-4e3c53d8bc06",
   "metadata": {},
   "outputs": [
    {
     "data": {
      "text/plain": [
       "array([[ 49,  44,  47, ..., 114, 119, 118],\n",
       "       [ 30,  29,  29, ..., 124, 133, 128],\n",
       "       [ 28,  30,  32, ..., 138, 145, 141],\n",
       "       ...,\n",
       "       [ 46,  49,  52, ...,  48,  45,  43],\n",
       "       [ 52,  57,  54, ...,  47,  52,  45],\n",
       "       [ 57,  49,  53, ...,  53,  50,  49]], dtype=uint8)"
      ]
     },
     "execution_count": 166,
     "metadata": {},
     "output_type": "execute_result"
    }
   ],
   "source": [
    "X[0]"
   ]
  },
  {
   "cell_type": "code",
   "execution_count": 167,
   "id": "f68a9649-7632-40f8-8a62-86ef4adab6c4",
   "metadata": {},
   "outputs": [
    {
     "data": {
      "text/plain": [
       "array([[[ 49],\n",
       "        [ 44],\n",
       "        [ 47],\n",
       "        ...,\n",
       "        [114],\n",
       "        [119],\n",
       "        [118]],\n",
       "\n",
       "       [[ 30],\n",
       "        [ 29],\n",
       "        [ 29],\n",
       "        ...,\n",
       "        [124],\n",
       "        [133],\n",
       "        [128]],\n",
       "\n",
       "       [[ 28],\n",
       "        [ 30],\n",
       "        [ 32],\n",
       "        ...,\n",
       "        [138],\n",
       "        [145],\n",
       "        [141]],\n",
       "\n",
       "       ...,\n",
       "\n",
       "       [[ 46],\n",
       "        [ 49],\n",
       "        [ 52],\n",
       "        ...,\n",
       "        [ 48],\n",
       "        [ 45],\n",
       "        [ 43]],\n",
       "\n",
       "       [[ 52],\n",
       "        [ 57],\n",
       "        [ 54],\n",
       "        ...,\n",
       "        [ 47],\n",
       "        [ 52],\n",
       "        [ 45]],\n",
       "\n",
       "       [[ 57],\n",
       "        [ 49],\n",
       "        [ 53],\n",
       "        ...,\n",
       "        [ 53],\n",
       "        [ 50],\n",
       "        [ 49]]], dtype=uint8)"
      ]
     },
     "execution_count": 167,
     "metadata": {},
     "output_type": "execute_result"
    }
   ],
   "source": [
    "X= np.array(X).reshape(-1, IMG_SIZE,IMG_SIZE,1)\n",
    "X[0]"
   ]
  },
  {
   "cell_type": "code",
   "execution_count": 168,
   "id": "47c7e688-ecd2-481d-9d4f-334881c7c61d",
   "metadata": {},
   "outputs": [],
   "source": [
    "import pickle"
   ]
  },
  {
   "cell_type": "code",
   "execution_count": 169,
   "id": "eea4e842-36f8-4c4c-8e96-cd0e992d9fb8",
   "metadata": {},
   "outputs": [],
   "source": [
    "pickle_out = open('X.pickle',\"wb\")\n",
    "pickle.dump(X,pickle_out)\n",
    "pickle_out.close()\n",
    "\n",
    "pickle_out = open('y.pickle',\"wb\")\n",
    "pickle.dump(y,pickle_out)\n",
    "pickle_out.close()"
   ]
  },
  {
   "cell_type": "code",
   "execution_count": 170,
   "id": "8dd6d2fd-e8e6-45dd-a6d8-e2ec38b361f8",
   "metadata": {},
   "outputs": [],
   "source": [
    "pickle_in = open(\"X.pickle\",\"rb\")\n",
    "X = pickle.load(pickle_in)\n",
    "pickle_in.close()"
   ]
  },
  {
   "cell_type": "code",
   "execution_count": 173,
   "id": "a90330d8-5fff-4bbd-ad51-24d8feb03e2c",
   "metadata": {},
   "outputs": [],
   "source": [
    "import tensorflow as tf\n",
    "from tensorflow.keras.models import Sequential\n",
    "from tensorflow.keras.layers import Dense,Flatten,Dropout,Activation,Conv2D, MaxPooling2D\n",
    "import pickle\n",
    "from tensorflow.keras.callbacks import TensorBoard\n",
    "import time"
   ]
  },
  {
   "cell_type": "code",
   "execution_count": 175,
   "id": "ce280ac0-6d30-452b-8a58-71d41718d9bc",
   "metadata": {},
   "outputs": [
    {
     "name": "stdout",
     "output_type": "stream",
     "text": [
      "24946\n",
      "Epoch 1/3\n",
      "702/702 [==============================] - ETA: 0s - loss: 0.6334 - Accuracy: 0.6278WARNING:tensorflow:AutoGraph could not transform <function Model.make_test_function.<locals>.test_function at 0x000002904E2F6700> and will run it as-is.\n",
      "Please report this to the TensorFlow team. When filing the bug, set the verbosity to 10 (on Linux, `export AUTOGRAPH_VERBOSITY=10`) and attach the full output.\n",
      "Cause: closure mismatch, requested ('self', 'step_function'), but source function had ()\n",
      "To silence this warning, decorate the function with @tf.autograph.experimental.do_not_convert\n",
      "WARNING: AutoGraph could not transform <function Model.make_test_function.<locals>.test_function at 0x000002904E2F6700> and will run it as-is.\n",
      "Please report this to the TensorFlow team. When filing the bug, set the verbosity to 10 (on Linux, `export AUTOGRAPH_VERBOSITY=10`) and attach the full output.\n",
      "Cause: closure mismatch, requested ('self', 'step_function'), but source function had ()\n",
      "To silence this warning, decorate the function with @tf.autograph.experimental.do_not_convert\n",
      "702/702 [==============================] - 76s 107ms/step - loss: 0.6334 - Accuracy: 0.6278 - val_loss: 0.5798 - val_Accuracy: 0.6906\n",
      "Epoch 2/3\n",
      "702/702 [==============================] - 73s 104ms/step - loss: 0.5257 - Accuracy: 0.7405 - val_loss: 0.5142 - val_Accuracy: 0.7491\n",
      "Epoch 3/3\n",
      "702/702 [==============================] - 72s 102ms/step - loss: 0.4756 - Accuracy: 0.7726 - val_loss: 0.4896 - val_Accuracy: 0.7655\n"
     ]
    },
    {
     "data": {
      "text/plain": [
       "<keras.callbacks.History at 0x2904e2fab20>"
      ]
     },
     "execution_count": 175,
     "metadata": {},
     "output_type": "execute_result"
    }
   ],
   "source": [
    "NAME = \"cat_vs_dogs_{}\".format(int(time.time()))\n",
    "\n",
    "X = pickle.load(open(\"X.pickle\",\"rb\"))\n",
    "y = pickle.load(open(\"y.pickle\",\"rb\"))\n",
    "print(len(X))\n",
    "X =X /255.0\n",
    "y = np.array(y)\n",
    "\n",
    "model = Sequential()\n",
    "model.add(Conv2D(64, (3,3) ,input_shape = X.shape[1:]))\n",
    "model.add(Activation(\"relu\"))\n",
    "model.add(MaxPooling2D(pool_size = (2,2)))\n",
    "\n",
    "model.add(Conv2D(64, (3,3)))\n",
    "model.add(Activation(\"relu\"))\n",
    "model.add(MaxPooling2D(pool_size = (2,2)))\n",
    "\n",
    "model.add(Flatten())\n",
    "model.add(Dense(64))\n",
    "model.add(Activation(\"relu\"))\n",
    "model.add(Dense(1))\n",
    "model.add(Activation(\"sigmoid\"))\n",
    "\n",
    "model.compile(optimizer = \"Adam\",\n",
    "             loss = \"binary_crossentropy\",\n",
    "             metrics = [\"Accuracy\"])\n",
    "\n",
    "model.fit(X,y, batch_size=32, validation_split =0.1,epochs=3)"
   ]
  },
  {
   "cell_type": "code",
   "execution_count": 193,
   "id": "15261d50-00ae-4cbd-9d50-1b3c48c454a7",
   "metadata": {},
   "outputs": [],
   "source": [
    "CATEGORIES = [\"Cat\",\"Dog\"]\n",
    "\n",
    "def prepare(filepath):\n",
    "    IMG_SIZE = 50\n",
    "    #print(filepath)\n",
    "    img_array = cv2.imread(filepath, cv2.IMREAD_GRAYSCALE)\n",
    "    #print(type(img_array))\n",
    "    new_array = cv2.resize(img_array, (IMG_SIZE,IMG_SIZE))\n",
    "    return new_array.reshape(-1, IMG_SIZE,IMG_SIZE, 1)"
   ]
  },
  {
   "cell_type": "code",
   "execution_count": 194,
   "id": "edaa5534-9e44-470d-bde3-be70da8265b8",
   "metadata": {},
   "outputs": [
    {
     "data": {
      "text/plain": [
       "array([[0.]], dtype=float32)"
      ]
     },
     "execution_count": 194,
     "metadata": {},
     "output_type": "execute_result"
    }
   ],
   "source": [
    "prediction = model.predict([prepare(r'C:\\Users\\hp\\Desktop\\Winter_22\\KMDK\\Python\\kagglecatsanddogs_3367a\\PetImages\\cat_test.jpg')])\n",
    "prediction"
   ]
  },
  {
   "cell_type": "code",
   "execution_count": 195,
   "id": "cd108fcb-281c-41af-987b-7fcc0a50b556",
   "metadata": {},
   "outputs": [
    {
     "data": {
      "text/plain": [
       "'Cat'"
      ]
     },
     "execution_count": 195,
     "metadata": {},
     "output_type": "execute_result"
    }
   ],
   "source": [
    "CATEGORIES[int(prediction[0][0])]"
   ]
  },
  {
   "cell_type": "code",
   "execution_count": 196,
   "id": "b340fa32-368c-449f-8e19-da894bb64d0c",
   "metadata": {},
   "outputs": [
    {
     "data": {
      "text/plain": [
       "array([[1.]], dtype=float32)"
      ]
     },
     "execution_count": 196,
     "metadata": {},
     "output_type": "execute_result"
    }
   ],
   "source": [
    "prediction2 = model.predict([prepare(r'C:\\Users\\hp\\Desktop\\Winter_22\\KMDK\\Python\\kagglecatsanddogs_3367a\\PetImages\\dog_test.jpg')])\n",
    "prediction2"
   ]
  },
  {
   "cell_type": "code",
   "execution_count": 197,
   "id": "be463c2c-e631-4fe3-8840-aa31bc22934b",
   "metadata": {},
   "outputs": [
    {
     "data": {
      "text/plain": [
       "'Dog'"
      ]
     },
     "execution_count": 197,
     "metadata": {},
     "output_type": "execute_result"
    }
   ],
   "source": [
    "CATEGORIES[int(prediction2[0][0])]"
   ]
  },
  {
   "cell_type": "code",
   "execution_count": 198,
   "id": "4601301d-1e69-410a-9266-264805a7aa68",
   "metadata": {},
   "outputs": [
    {
     "name": "stdout",
     "output_type": "stream",
     "text": [
      "WARNING:tensorflow:AutoGraph could not transform <function canonicalize_signatures.<locals>.signature_wrapper at 0x00000290551C9940> and will run it as-is.\n",
      "Please report this to the TensorFlow team. When filing the bug, set the verbosity to 10 (on Linux, `export AUTOGRAPH_VERBOSITY=10`) and attach the full output.\n",
      "Cause: closure mismatch, requested ('signature_function', 'signature_key'), but source function had ()\n",
      "To silence this warning, decorate the function with @tf.autograph.experimental.do_not_convert\n",
      "WARNING: AutoGraph could not transform <function canonicalize_signatures.<locals>.signature_wrapper at 0x00000290551C9940> and will run it as-is.\n",
      "Please report this to the TensorFlow team. When filing the bug, set the verbosity to 10 (on Linux, `export AUTOGRAPH_VERBOSITY=10`) and attach the full output.\n",
      "Cause: closure mismatch, requested ('signature_function', 'signature_key'), but source function had ()\n",
      "To silence this warning, decorate the function with @tf.autograph.experimental.do_not_convert\n",
      "INFO:tensorflow:Assets written to: cat_vs_dog.model\\assets\n"
     ]
    }
   ],
   "source": [
    "model.save('cat_vs_dog.model')"
   ]
  },
  {
   "cell_type": "code",
   "execution_count": 200,
   "id": "34dd51d9-8063-41de-8a61-c6623949f288",
   "metadata": {},
   "outputs": [
    {
     "name": "stdout",
     "output_type": "stream",
     "text": [
      "WARNING:tensorflow:AutoGraph could not transform <function Model.make_predict_function.<locals>.predict_function at 0x000002905595B790> and will run it as-is.\n",
      "Please report this to the TensorFlow team. When filing the bug, set the verbosity to 10 (on Linux, `export AUTOGRAPH_VERBOSITY=10`) and attach the full output.\n",
      "Cause: Unknown node type <gast.gast.Expr object at 0x000002904E2C6E50>\n",
      "To silence this warning, decorate the function with @tf.autograph.experimental.do_not_convert\n",
      "WARNING: AutoGraph could not transform <function Model.make_predict_function.<locals>.predict_function at 0x000002905595B790> and will run it as-is.\n",
      "Please report this to the TensorFlow team. When filing the bug, set the verbosity to 10 (on Linux, `export AUTOGRAPH_VERBOSITY=10`) and attach the full output.\n",
      "Cause: Unknown node type <gast.gast.Expr object at 0x000002904E2C6E50>\n",
      "To silence this warning, decorate the function with @tf.autograph.experimental.do_not_convert\n"
     ]
    },
    {
     "data": {
      "text/plain": [
       "'Cat'"
      ]
     },
     "execution_count": 200,
     "metadata": {},
     "output_type": "execute_result"
    }
   ],
   "source": [
    "model_loaded = tf.keras.models.load_model('cat_vs_dog.model')\n",
    "prediction3 = model_loaded.predict([prepare(r'C:\\Users\\hp\\Desktop\\Winter_22\\KMDK\\Python\\kagglecatsanddogs_3367a\\PetImages\\cat_test.jpg')])\n",
    "CATEGORIES[int(prediction3[0][0])]"
   ]
  },
  {
   "cell_type": "code",
   "execution_count": null,
   "id": "ddabec37-b0ba-4a7a-9a14-19814c809e7b",
   "metadata": {},
   "outputs": [],
   "source": []
  }
 ],
 "metadata": {
  "kernelspec": {
   "display_name": "Python 3 (ipykernel)",
   "language": "python",
   "name": "python3"
  },
  "language_info": {
   "codemirror_mode": {
    "name": "ipython",
    "version": 3
   },
   "file_extension": ".py",
   "mimetype": "text/x-python",
   "name": "python",
   "nbconvert_exporter": "python",
   "pygments_lexer": "ipython3",
   "version": "3.9.7"
  }
 },
 "nbformat": 4,
 "nbformat_minor": 5
}
